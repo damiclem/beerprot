{
 "cells": [
  {
   "cell_type": "code",
   "execution_count": 1,
   "metadata": {
    "scrolled": true
   },
   "outputs": [],
   "source": [
    "# Dependencies\n",
    "import modules.blast as blast\n",
    "import modules.uniprot as uniprot\n",
    "import modules.msa as msa\n",
    "import pandas as pd\n",
    "import numpy as np\n",
    "import re\n",
    "import time"
   ]
  },
  {
   "cell_type": "code",
   "execution_count": 2,
   "metadata": {},
   "outputs": [],
   "source": [
    "# Constants\n",
    "BLAST_MATCHES_PATH = 'data/blast.csv'  # Blast matches dataset\n",
    "BLAST_FASTA_PATH = 'data/blast.fasta'  # Blast matched proteins fasta file\n",
    "MSA_FASTA_PATH = 'data/msa.fasta'  # Multiple sequence alignment file\n",
    "HUMAN_CSV_PATH = 'data/human.csv'  # Test set csv\n",
    "HUMAN_IN_PFAM_CSV_PATH = 'data/human_in_pfam.csv'\n",
    "HUMAN_NO_PFAM_CSV_PATH = 'data/human_no_pfam.csv'\n",
    "HUMAN_FASTA_PATH = 'data/human.fasta'  # Test set fasta\n",
    "GO_CSV_PATH = 'data/go.csv'  # GO terms dataset\n",
    "FAMILIES_CSV_PATH = 'data/families.csv'  # Pfam families dataset"
   ]
  },
  {
   "cell_type": "markdown",
   "metadata": {},
   "source": [
    "## BLAST search\n",
    "\n",
    "Execute a blast search using EBI restful web service"
   ]
  },
  {
   "cell_type": "code",
   "execution_count": null,
   "metadata": {},
   "outputs": [],
   "source": [
    "# Start a BLAST job\n",
    "status, job_id, _ = blast.run_job(email='damiano.clementel@studenti.unipd.it',\n",
    "                              sequence='VPSGWKAVFDDEYQTWYYVDLSTNSSQWEPP',\n",
    "                              params={'database': 'uniref90',\n",
    "                                      'matrix': 'BLOSUM62',\n",
    "                                      'alignments': 1000, \n",
    "                                      'gapalign': True, \n",
    "                                      'exp': '1e-3'})\n",
    "\n",
    "# Check output\n",
    "print('Started job: {:s}'.format(job_id))"
   ]
  },
  {
   "cell_type": "code",
   "execution_count": null,
   "metadata": {},
   "outputs": [],
   "source": [
    "# Define results container\n",
    "job_result = None\n",
    "# job_id = 'ncbiblast-R20200206-172705-0918-98731783-p1m'\n",
    "\n",
    "# Retruieve BLAST job results\n",
    "while True:\n",
    "    # Make request for job status\n",
    "    status, job_status, _ = blast.get_job_status(job_id)\n",
    "    print('Job status: {:s}'.format(job_status))  # LOG\n",
    "    # Check error\n",
    "    if not status: break\n",
    "    # Check if job has finished running\n",
    "    if job_status == 'FINISHED':\n",
    "        # Retrieve results\n",
    "        status, job_result, _ = blast.get_job_result(job_id)\n",
    "        print('Job exited with status: {:s}'.format(job_status))  # LOG\n",
    "        break  # Exit loop\n",
    "    # Wait 10 seconds befroe making another call\n",
    "    time.sleep(10)"
   ]
  },
  {
   "cell_type": "code",
   "execution_count": null,
   "metadata": {
    "scrolled": false
   },
   "outputs": [],
   "source": [
    "# Turn job result into pandas DataFrame object\n",
    "matches = pd.DataFrame(job_result)\n",
    "matches.to_csv(BLAST_MATCHES_PATH, index=False)  # Save to disk\n",
    "\n",
    "# Show dataframe\n",
    "matches.head()"
   ]
  },
  {
   "cell_type": "markdown",
   "metadata": {},
   "source": [
    "## Create FASTA file from BLAST"
   ]
  },
  {
   "cell_type": "code",
   "execution_count": null,
   "metadata": {},
   "outputs": [],
   "source": [
    "# Save full fasta file\n",
    "with open(BLAST_FASTA_PATH, 'w') as blast_fasta_file:\n",
    "    # Get fasta file\n",
    "    status, blast_fasta, _ = uniprot.get_proteins(matches.id.tolist(), batch_size=100)\n",
    "    # Write fasta file to disk\n",
    "    blast_fasta_file.write(blast_fasta)"
   ]
  },
  {
   "cell_type": "code",
   "execution_count": null,
   "metadata": {},
   "outputs": [],
   "source": [
    "# Check number of retrieved fasta files\n",
    "blast_fasta_len = sum([1 for c in blast_fasta if c == '>'])  # Number of rows in fasta file\n",
    "matches_len = matches.shape[0]  # Number of rows in dataframe\n",
    "\n",
    "assert  blast_fasta_len == matches_len, 'Fasta file and dataset lengths do not coincide'"
   ]
  },
  {
   "cell_type": "markdown",
   "metadata": {},
   "source": [
    "## Execute multiple sequence alignment"
   ]
  },
  {
   "cell_type": "code",
   "execution_count": null,
   "metadata": {},
   "outputs": [],
   "source": [
    "# Make multiple sequence alignment\n",
    "\n",
    "# Create MSA job\n",
    "status, job_id, _ = msa.run_clustalo(email='damiano.clementel@studenti.unipd.it', sequence=blast_fasta)\n",
    "\n",
    "# Wait until MSA job finishes\n",
    "while True:\n",
    "    # Check response status\n",
    "    status, job_status, _ = msa.get_job_status(job_id, algorithm=msa.CLUSTALO)\n",
    "    # Check if response status is 200 OK\n",
    "    if not status:\n",
    "        print('Error: job exited')\n",
    "        break \n",
    "    # Check if job has finished, then go on\n",
    "    print('Job status: {:s}'.format(job_status))\n",
    "    if job_status == 'FINISHED': break\n",
    "    # Add delay\n",
    "    time.sleep(3)\n",
    "print()\n",
    "    \n",
    "# Get results\n",
    "if status:\n",
    "    # Retrieve result as fasta\n",
    "    status, msa_fasta, _ = msa.get_job_result(job_id, algorithm=msa.CLUSTALO)\n",
    "    # Save msa to file\n",
    "    with open(MSA_FASTA_PATH, 'w') as msa_fasta_file:\n",
    "        msa_fasta_file.write(msa_fasta)\n",
    "    # Show fasta file head\n",
    "    print('Retrieved fasta file')\n",
    "    print(msa_fasta[:2000])"
   ]
  },
  {
   "cell_type": "code",
   "execution_count": null,
   "metadata": {},
   "outputs": [],
   "source": [
    "# Check length of retrieved fasta\n",
    "msa_fasta_len = sum([1 for c in blast_fasta if c == '>'])  # Number of rows in fasta file\n",
    "\n",
    "assert blast_fasta_len == matches_len, 'Alignments fasta file and dataset lengths do not coincide'"
   ]
  },
  {
   "cell_type": "markdown",
   "metadata": {},
   "source": [
    "## Create a dataset of human proteins"
   ]
  },
  {
   "cell_type": "code",
   "execution_count": 3,
   "metadata": {},
   "outputs": [],
   "source": [
    "# Retrieve dataset of human proteins\n",
    "status, table, _ = uniprot.make_query('reviewed:yes AND organism:\"Homo sapiens (Human) [9606]\"', params={\n",
    "    'compress': 'no',\n",
    "    'columns': ','.join(['id', 'entry name', 'reviewed', 'protein names', 'genes', 'length', 'go', \n",
    "                         'database(Pfam)', 'feature(DOMAIN EXTENT)']),\n",
    "    'sort': 'score',\n",
    "    'format': 'tab'\n",
    "})"
   ]
  },
  {
   "cell_type": "code",
   "execution_count": 4,
   "metadata": {},
   "outputs": [
    {
     "data": {
      "text/html": [
       "<div>\n",
       "<style scoped>\n",
       "    .dataframe tbody tr th:only-of-type {\n",
       "        vertical-align: middle;\n",
       "    }\n",
       "\n",
       "    .dataframe tbody tr th {\n",
       "        vertical-align: top;\n",
       "    }\n",
       "\n",
       "    .dataframe thead th {\n",
       "        text-align: right;\n",
       "    }\n",
       "</style>\n",
       "<table border=\"1\" class=\"dataframe\">\n",
       "  <thead>\n",
       "    <tr style=\"text-align: right;\">\n",
       "      <th></th>\n",
       "      <th>Entry</th>\n",
       "      <th>Entry name</th>\n",
       "      <th>Status</th>\n",
       "      <th>Protein names</th>\n",
       "      <th>Gene names</th>\n",
       "      <th>Length</th>\n",
       "      <th>Gene ontology (GO)</th>\n",
       "      <th>Cross-reference (Pfam)</th>\n",
       "      <th>Domain [FT]</th>\n",
       "    </tr>\n",
       "  </thead>\n",
       "  <tbody>\n",
       "    <tr>\n",
       "      <th>0</th>\n",
       "      <td>Q9Y263</td>\n",
       "      <td>PLAP_HUMAN</td>\n",
       "      <td>reviewed</td>\n",
       "      <td>Phospholipase A-2-activating protein (PLA2P) (...</td>\n",
       "      <td>PLAA PLAP</td>\n",
       "      <td>795</td>\n",
       "      <td>cell [GO:0005623]; cell junction [GO:0030054];...</td>\n",
       "      <td>PF09070;PF08324;PF00400;</td>\n",
       "      <td>DOMAIN 366..465;  /note=\"PFU\";  /evidence=\"ECO...</td>\n",
       "    </tr>\n",
       "    <tr>\n",
       "      <th>1</th>\n",
       "      <td>Q96RE7</td>\n",
       "      <td>NACC1_HUMAN</td>\n",
       "      <td>reviewed</td>\n",
       "      <td>Nucleus accumbens-associated protein 1 (NAC-1)...</td>\n",
       "      <td>NACC1 BTBD14B NAC1</td>\n",
       "      <td>527</td>\n",
       "      <td>cell junction [GO:0030054]; cytoplasm [GO:0005...</td>\n",
       "      <td>PF10523;PF00651;</td>\n",
       "      <td>DOMAIN 30..94;  /note=\"BTB\";  /evidence=\"ECO:0...</td>\n",
       "    </tr>\n",
       "    <tr>\n",
       "      <th>2</th>\n",
       "      <td>O43312</td>\n",
       "      <td>MTSS1_HUMAN</td>\n",
       "      <td>reviewed</td>\n",
       "      <td>Protein MTSS 1 (Metastasis suppressor YGL-1) (...</td>\n",
       "      <td>MTSS1 KIAA0429 MIM</td>\n",
       "      <td>755</td>\n",
       "      <td>actin cytoskeleton [GO:0015629]; cytoplasm [GO...</td>\n",
       "      <td>PF08397;PF02205;</td>\n",
       "      <td>DOMAIN 1..250;  /note=\"IMD\";  /evidence=\"ECO:0...</td>\n",
       "    </tr>\n",
       "    <tr>\n",
       "      <th>3</th>\n",
       "      <td>Q9NP80</td>\n",
       "      <td>PLPL8_HUMAN</td>\n",
       "      <td>reviewed</td>\n",
       "      <td>Calcium-independent phospholipase A2-gamma (EC...</td>\n",
       "      <td>PNPLA8 IPLA22 IPLA2G BM-043</td>\n",
       "      <td>782</td>\n",
       "      <td>endoplasmic reticulum membrane [GO:0005789]; G...</td>\n",
       "      <td>PF01734;</td>\n",
       "      <td>DOMAIN 445..640;  /note=\"PNPLA\";  /evidence=\"E...</td>\n",
       "    </tr>\n",
       "    <tr>\n",
       "      <th>4</th>\n",
       "      <td>Q15319</td>\n",
       "      <td>PO4F3_HUMAN</td>\n",
       "      <td>reviewed</td>\n",
       "      <td>POU domain, class 4, transcription factor 3 (B...</td>\n",
       "      <td>POU4F3 BRN3C</td>\n",
       "      <td>338</td>\n",
       "      <td>cytoplasm [GO:0005737]; nuclear chromatin [GO:...</td>\n",
       "      <td>PF00046;PF00157;</td>\n",
       "      <td>DOMAIN 179..256;  /note=\"POU-specific\";  /evid...</td>\n",
       "    </tr>\n",
       "  </tbody>\n",
       "</table>\n",
       "</div>"
      ],
      "text/plain": [
       "    Entry   Entry name    Status  \\\n",
       "0  Q9Y263   PLAP_HUMAN  reviewed   \n",
       "1  Q96RE7  NACC1_HUMAN  reviewed   \n",
       "2  O43312  MTSS1_HUMAN  reviewed   \n",
       "3  Q9NP80  PLPL8_HUMAN  reviewed   \n",
       "4  Q15319  PO4F3_HUMAN  reviewed   \n",
       "\n",
       "                                       Protein names  \\\n",
       "0  Phospholipase A-2-activating protein (PLA2P) (...   \n",
       "1  Nucleus accumbens-associated protein 1 (NAC-1)...   \n",
       "2  Protein MTSS 1 (Metastasis suppressor YGL-1) (...   \n",
       "3  Calcium-independent phospholipase A2-gamma (EC...   \n",
       "4  POU domain, class 4, transcription factor 3 (B...   \n",
       "\n",
       "                    Gene names Length  \\\n",
       "0                    PLAA PLAP    795   \n",
       "1           NACC1 BTBD14B NAC1    527   \n",
       "2           MTSS1 KIAA0429 MIM    755   \n",
       "3  PNPLA8 IPLA22 IPLA2G BM-043    782   \n",
       "4                 POU4F3 BRN3C    338   \n",
       "\n",
       "                                  Gene ontology (GO)  \\\n",
       "0  cell [GO:0005623]; cell junction [GO:0030054];...   \n",
       "1  cell junction [GO:0030054]; cytoplasm [GO:0005...   \n",
       "2  actin cytoskeleton [GO:0015629]; cytoplasm [GO...   \n",
       "3  endoplasmic reticulum membrane [GO:0005789]; G...   \n",
       "4  cytoplasm [GO:0005737]; nuclear chromatin [GO:...   \n",
       "\n",
       "     Cross-reference (Pfam)                                        Domain [FT]  \n",
       "0  PF09070;PF08324;PF00400;  DOMAIN 366..465;  /note=\"PFU\";  /evidence=\"ECO...  \n",
       "1          PF10523;PF00651;  DOMAIN 30..94;  /note=\"BTB\";  /evidence=\"ECO:0...  \n",
       "2          PF08397;PF02205;  DOMAIN 1..250;  /note=\"IMD\";  /evidence=\"ECO:0...  \n",
       "3                  PF01734;  DOMAIN 445..640;  /note=\"PNPLA\";  /evidence=\"E...  \n",
       "4          PF00046;PF00157;  DOMAIN 179..256;  /note=\"POU-specific\";  /evid...  "
      ]
     },
     "execution_count": 4,
     "metadata": {},
     "output_type": "execute_result"
    }
   ],
   "source": [
    "# Create DataFrame object\n",
    "\n",
    "# Get rows and header row\n",
    "rows = table.split('\\n')\n",
    "header = rows[0].split('\\t')\n",
    "\n",
    "# Instantiate new dataframe\n",
    "human_ds = pd.DataFrame([row.split('\\t') for row in rows[1:-1]], columns=header)\n",
    "human_ds.to_csv(HUMAN_CSV_PATH, sep='\\t', index=False)\n",
    "human_ds.head()"
   ]
  },
  {
   "cell_type": "code",
   "execution_count": 8,
   "metadata": {},
   "outputs": [
    {
     "name": "stdout",
     "output_type": "stream",
     "text": [
      "DOMAIN 366..465;  /note=\"PFU\";  /evidence=\"ECO:0000255|PROSITE-ProRule:PRU00727\"; DOMAIN 533..794;  /note=\"PUL\";  /evidence=\"ECO:0000255|PROSITE-ProRule:PRU00729\"\n"
     ]
    }
   ],
   "source": [
    "print(human_ds.iloc[0]['Domain [FT]'])"
   ]
  },
  {
   "cell_type": "code",
   "execution_count": null,
   "metadata": {},
   "outputs": [],
   "source": [
    "# Add boolean column: is given protein in given PF00397 family?\n",
    "\n",
    "# Define reference pfam\n",
    "pfam = 'PF00397'\n",
    "# Define matching pattern\n",
    "pattern = r'(\\;?){:s};'.format(pfam)\n",
    "\n",
    "# Get families column\n",
    "families = human_ds['Cross-reference (Pfam)'] \n",
    "# Add \"is in family?\" column\n",
    "human_ds[pfam] = families.apply(lambda x: re.search(pattern, str(x)) is not None)\n",
    "human_ds.to_csv(HUMAN_CSV_PATH, sep='\\t', index=False)\n",
    "human_ds.head()"
   ]
  },
  {
   "cell_type": "code",
   "execution_count": null,
   "metadata": {},
   "outputs": [],
   "source": [
    "# Create gene ontology dataset\n",
    "\n",
    "# Initialize gene ontology dataset\n",
    "go_ds = {'Entry': [], 'GO id': [], 'GO descr': []}\n",
    "\n",
    "# Iterate through each human dataset row\n",
    "for i, row in human_ds.iterrows():\n",
    "    entry = str(row['Entry'])\n",
    "    go_str = str(row['Gene ontology (GO)'])\n",
    "    go_ids = re.findall(r'\\[(GO:.+?)\\]', go_str)\n",
    "    go_descr = [re.sub(r'\\[(GO:.+?)\\]', '', s).strip() for s in re.split('; ', go_str)]\n",
    "    # Create entries in new dataframe\n",
    "    for j in range(len(go_ids)):\n",
    "        go_ds['Entry'].append(entry)\n",
    "        go_id = re.sub('GO:', '', go_ids[j])\n",
    "        go_ds['GO id'].append(go_id)\n",
    "        go_ds['GO descr'].append(go_descr[j])\n",
    "    \n",
    "# Turn gene ontology dataset into Pandas DataFrame object\n",
    "go_ds = pd.DataFrame(go_ds)\n",
    "go_ds.to_csv(GO_CSV_PATH, sep='\\t', index=False)\n",
    "go_ds.head(5)"
   ]
  },
  {
   "cell_type": "code",
   "execution_count": null,
   "metadata": {},
   "outputs": [],
   "source": [
    "# Create protein family dataset\n",
    "\n",
    "# Initialize protein family dataset\n",
    "families_ds = {'Entry': [], 'Pfam': []}\n",
    "\n",
    "# Iterate through each human dataset row\n",
    "for i, row in human_ds.iterrows():\n",
    "    # Get list of protein accessions\n",
    "    entry = row['Entry']\n",
    "    families = [f for f in str(row['Cross-reference (Pfam)']).split(';') if f != '']\n",
    "    # Create a row for each family\n",
    "    for j in range(len(families)):\n",
    "        families_ds['Entry'].append(entry)\n",
    "        families_ds['Pfam'].append(families[j])\n",
    "        \n",
    "# Turn dataset into a Pandas DataFrame object\n",
    "families_ds = pd.DataFrame(families_ds)\n",
    "families_ds.to_csv(FAMILIES_CSV_PATH, sep='\\t', index=False)  # Save to disk\n",
    "families_ds.head()"
   ]
  },
  {
   "cell_type": "code",
   "execution_count": null,
   "metadata": {
    "scrolled": false
   },
   "outputs": [],
   "source": [
    "# Get proteins in PF00397 family\n",
    "human_in_pfam_ds = human_ds[human_ds['PF00397']]\n",
    "human_in_pfam_ds.to_csv(HUMAN_IN_PFAM_CSV_PATH, sep='\\t', index=False)\n",
    "human_in_pfam_ds.head()"
   ]
  },
  {
   "cell_type": "code",
   "execution_count": null,
   "metadata": {},
   "outputs": [],
   "source": [
    "# Get human proteins not in PF00397 family\n",
    "human_no_pfam_ds = human_ds[~human_ds['PF00397']]\n",
    "human_no_pfam_ds.to_csv(HUMAN_NO_PFAM_CSV_PATH, sep='\\t', index=False)\n",
    "human_no_pfam_ds.head()"
   ]
  },
  {
   "cell_type": "code",
   "execution_count": null,
   "metadata": {},
   "outputs": [],
   "source": [
    "# Download fasta file\n",
    "status, human_fasta, _ =  uniprot.make_query('reviewed:yes AND organism:\"Homo sapiens (Human) [9606]\"', params={\n",
    "    'compress': 'no',\n",
    "    'sort': 'score',\n",
    "    'format': 'fasta'\n",
    "})"
   ]
  },
  {
   "cell_type": "code",
   "execution_count": null,
   "metadata": {},
   "outputs": [],
   "source": [
    "# Check the retrieved fasta file\n",
    "print(human_fasta[:250])"
   ]
  },
  {
   "cell_type": "code",
   "execution_count": null,
   "metadata": {},
   "outputs": [],
   "source": [
    "# Save human fasta to disk\n",
    "with open(HUMAN_FASTA_PATH, 'w') as human_fasta_file:\n",
    "    human_fasta_file.write(human_fasta)"
   ]
  }
 ],
 "metadata": {
  "kernelspec": {
   "display_name": "Python 3",
   "language": "python",
   "name": "python3"
  },
  "language_info": {
   "codemirror_mode": {
    "name": "ipython",
    "version": 3
   },
   "file_extension": ".py",
   "mimetype": "text/x-python",
   "name": "python",
   "nbconvert_exporter": "python",
   "pygments_lexer": "ipython3",
   "version": "3.7.4"
  }
 },
 "nbformat": 4,
 "nbformat_minor": 2
}
