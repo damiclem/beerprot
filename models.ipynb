{
 "cells": [
  {
   "cell_type": "markdown",
   "metadata": {},
   "source": [
    "# Models\n",
    "\n",
    "Training and testing models: PSSM, HMM and ensemble of both"
   ]
  },
  {
   "cell_type": "code",
   "execution_count": 1,
   "metadata": {},
   "outputs": [],
   "source": [
    "# Dependencies"
   ]
  },
  {
   "cell_type": "code",
   "execution_count": null,
   "metadata": {},
   "outputs": [],
   "source": [
    "# Constants\n",
    "MSA_FASTA_PATH = 'data/msa.fasta'\n",
    "HUMAN_FASTA_PATH = 'data/human.fasta'\n",
    "# Hidden markov model paths\n",
    "HMM_MODEL_PATH = 'models/model.hmm'\n",
    "HMM_OUT_PATH = 'results/hmm.txt'\n",
    "HMM_DOMTBLOUT_PATH = 'results/hmm_domtblout.txt'"
   ]
  }
 ],
 "metadata": {
  "kernelspec": {
   "display_name": "Python 3",
   "language": "python",
   "name": "python3"
  },
  "language_info": {
   "codemirror_mode": {
    "name": "ipython",
    "version": 3
   },
   "file_extension": ".py",
   "mimetype": "text/x-python",
   "name": "python",
   "nbconvert_exporter": "python",
   "pygments_lexer": "ipython3",
   "version": "3.7.4"
  }
 },
 "nbformat": 4,
 "nbformat_minor": 2
}
