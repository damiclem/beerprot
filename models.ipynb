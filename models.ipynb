{
 "cells": [
  {
   "cell_type": "markdown",
   "metadata": {},
   "source": [
    "# Models\n",
    "\n",
    "Training and testing models: PSSM, HMM and ensemble of both"
   ]
  },
  {
   "cell_type": "code",
   "execution_count": 1,
   "metadata": {},
   "outputs": [],
   "source": [
    "# Dependencies\n",
    "import modules.pssm as pssm\n",
    "import modules.hmm as hmm\n",
    "import subprocess\n",
    "import numpy as np\n",
    "import pandas as pd\n",
    "import seaborn as sns\n",
    "import matplotlib.pyplot as plt\n",
    "\n",
    "# Set matplotlib inline\n",
    "%matplotlib inline"
   ]
  },
  {
   "cell_type": "code",
   "execution_count": 2,
   "metadata": {},
   "outputs": [],
   "source": [
    "# Constants\n",
    "MSA_FASTA_PATH = 'data/msa.fasta'  # Multiple sequence alignment (.fasta)\n",
    "HUMAN_CSV_PATH = 'data/human.csv'  # Human proteome .csv dataset\n",
    "HUMAN_FASTA_PATH = 'data/human.fasta'  # Human proteome .fasta dataset\n",
    "# Families dataset path\n",
    "FAMILIES_CSV_PATH = 'data/families.csv'  # Families .csv dataset\n",
    "# Hidden Markov Model paths\n",
    "HMM_MODEL_PATH = 'models/model.hmm'  # Hidden Markov Model path\n",
    "# PSSM paths\n",
    "PSSM_MODEL_PATH = 'models/model.pssm'  # PSSM model path"
   ]
  },
  {
   "cell_type": "code",
   "execution_count": 3,
   "metadata": {},
   "outputs": [
    {
     "data": {
      "text/html": [
       "<div>\n",
       "<style scoped>\n",
       "    .dataframe tbody tr th:only-of-type {\n",
       "        vertical-align: middle;\n",
       "    }\n",
       "\n",
       "    .dataframe tbody tr th {\n",
       "        vertical-align: top;\n",
       "    }\n",
       "\n",
       "    .dataframe thead th {\n",
       "        text-align: right;\n",
       "    }\n",
       "</style>\n",
       "<table border=\"1\" class=\"dataframe\">\n",
       "  <thead>\n",
       "    <tr style=\"text-align: right;\">\n",
       "      <th></th>\n",
       "      <th>Entry</th>\n",
       "      <th>PF00397</th>\n",
       "    </tr>\n",
       "  </thead>\n",
       "  <tbody>\n",
       "    <tr>\n",
       "      <th>0</th>\n",
       "      <td>Q9Y263</td>\n",
       "      <td>False</td>\n",
       "    </tr>\n",
       "    <tr>\n",
       "      <th>1</th>\n",
       "      <td>Q96RE7</td>\n",
       "      <td>False</td>\n",
       "    </tr>\n",
       "    <tr>\n",
       "      <th>2</th>\n",
       "      <td>O43312</td>\n",
       "      <td>False</td>\n",
       "    </tr>\n",
       "    <tr>\n",
       "      <th>3</th>\n",
       "      <td>Q9NP80</td>\n",
       "      <td>False</td>\n",
       "    </tr>\n",
       "    <tr>\n",
       "      <th>4</th>\n",
       "      <td>Q15319</td>\n",
       "      <td>False</td>\n",
       "    </tr>\n",
       "  </tbody>\n",
       "</table>\n",
       "</div>"
      ],
      "text/plain": [
       "    Entry  PF00397\n",
       "0  Q9Y263    False\n",
       "1  Q96RE7    False\n",
       "2  O43312    False\n",
       "3  Q9NP80    False\n",
       "4  Q15319    False"
      ]
     },
     "execution_count": 3,
     "metadata": {},
     "output_type": "execute_result"
    }
   ],
   "source": [
    "# Load protein families dataset\n",
    "ds_human = pd.read_csv(HUMAN_CSV_PATH)\n",
    "ds_human = ds_human[['Entry', 'PF00397']]\n",
    "ds_human.head()"
   ]
  },
  {
   "cell_type": "markdown",
   "metadata": {},
   "source": [
    "## PSSM model"
   ]
  },
  {
   "cell_type": "code",
   "execution_count": 4,
   "metadata": {
    "scrolled": true
   },
   "outputs": [],
   "source": [
    "# Execute PSSM\n",
    "try:\n",
    "    pssm_result = pssm.run(test_path=HUMAN_FASTA_PATH, model_path=PSSM_MODEL_PATH)\n",
    "    pssm_result = pssm.parse(pssm_result)\n",
    "    \n",
    "# Catch error\n",
    "except subprocess.CalledProcessError as e:\n",
    "    print(e)"
   ]
  },
  {
   "cell_type": "code",
   "execution_count": 5,
   "metadata": {},
   "outputs": [
    {
     "data": {
      "text/html": [
       "<div>\n",
       "<style scoped>\n",
       "    .dataframe tbody tr th:only-of-type {\n",
       "        vertical-align: middle;\n",
       "    }\n",
       "\n",
       "    .dataframe tbody tr th {\n",
       "        vertical-align: top;\n",
       "    }\n",
       "\n",
       "    .dataframe thead th {\n",
       "        text-align: right;\n",
       "    }\n",
       "</style>\n",
       "<table border=\"1\" class=\"dataframe\">\n",
       "  <thead>\n",
       "    <tr style=\"text-align: right;\">\n",
       "      <th></th>\n",
       "      <th>query_acc_ver</th>\n",
       "      <th>subject_acc_ver</th>\n",
       "      <th>perc_identity</th>\n",
       "      <th>align_length</th>\n",
       "      <th>mismatches</th>\n",
       "      <th>gap_opens</th>\n",
       "      <th>q_start</th>\n",
       "      <th>q_end</th>\n",
       "      <th>s_start</th>\n",
       "      <th>s_end</th>\n",
       "      <th>evalue</th>\n",
       "      <th>bit_score</th>\n",
       "    </tr>\n",
       "  </thead>\n",
       "  <tbody>\n",
       "    <tr>\n",
       "      <th>0</th>\n",
       "      <td>UniRef90_A0A2A9PPS1</td>\n",
       "      <td>Q8N3X1</td>\n",
       "      <td>22.951</td>\n",
       "      <td>61</td>\n",
       "      <td>47</td>\n",
       "      <td>0</td>\n",
       "      <td>71</td>\n",
       "      <td>131</td>\n",
       "      <td>598</td>\n",
       "      <td>658</td>\n",
       "      <td>4.63e-08</td>\n",
       "      <td>53.9</td>\n",
       "    </tr>\n",
       "    <tr>\n",
       "      <th>1</th>\n",
       "      <td>UniRef90_A0A2A9PPS1</td>\n",
       "      <td>Q96J02</td>\n",
       "      <td>11.915</td>\n",
       "      <td>235</td>\n",
       "      <td>200</td>\n",
       "      <td>3</td>\n",
       "      <td>17</td>\n",
       "      <td>251</td>\n",
       "      <td>275</td>\n",
       "      <td>502</td>\n",
       "      <td>1.38e-07</td>\n",
       "      <td>52.4</td>\n",
       "    </tr>\n",
       "    <tr>\n",
       "      <th>2</th>\n",
       "      <td>UniRef90_A0A2A9PPS1</td>\n",
       "      <td>Q96J02</td>\n",
       "      <td>15.464</td>\n",
       "      <td>97</td>\n",
       "      <td>81</td>\n",
       "      <td>1</td>\n",
       "      <td>56</td>\n",
       "      <td>152</td>\n",
       "      <td>426</td>\n",
       "      <td>521</td>\n",
       "      <td>2.50e-04</td>\n",
       "      <td>42.4</td>\n",
       "    </tr>\n",
       "    <tr>\n",
       "      <th>3</th>\n",
       "      <td>UniRef90_A0A2A9PPS1</td>\n",
       "      <td>O00308</td>\n",
       "      <td>13.284</td>\n",
       "      <td>271</td>\n",
       "      <td>222</td>\n",
       "      <td>6</td>\n",
       "      <td>1</td>\n",
       "      <td>261</td>\n",
       "      <td>227</td>\n",
       "      <td>494</td>\n",
       "      <td>1.61e-07</td>\n",
       "      <td>52.0</td>\n",
       "    </tr>\n",
       "    <tr>\n",
       "      <th>4</th>\n",
       "      <td>UniRef90_A0A2A9PPS1</td>\n",
       "      <td>O00308</td>\n",
       "      <td>9.677</td>\n",
       "      <td>217</td>\n",
       "      <td>192</td>\n",
       "      <td>2</td>\n",
       "      <td>20</td>\n",
       "      <td>233</td>\n",
       "      <td>282</td>\n",
       "      <td>497</td>\n",
       "      <td>2.94e-06</td>\n",
       "      <td>48.1</td>\n",
       "    </tr>\n",
       "  </tbody>\n",
       "</table>\n",
       "</div>"
      ],
      "text/plain": [
       "         query_acc_ver subject_acc_ver perc_identity align_length mismatches  \\\n",
       "0  UniRef90_A0A2A9PPS1          Q8N3X1        22.951           61         47   \n",
       "1  UniRef90_A0A2A9PPS1          Q96J02        11.915          235        200   \n",
       "2  UniRef90_A0A2A9PPS1          Q96J02        15.464           97         81   \n",
       "3  UniRef90_A0A2A9PPS1          O00308        13.284          271        222   \n",
       "4  UniRef90_A0A2A9PPS1          O00308         9.677          217        192   \n",
       "\n",
       "  gap_opens q_start q_end s_start s_end    evalue bit_score  \n",
       "0         0      71   131     598   658  4.63e-08      53.9  \n",
       "1         3      17   251     275   502  1.38e-07      52.4  \n",
       "2         1      56   152     426   521  2.50e-04      42.4  \n",
       "3         6       1   261     227   494  1.61e-07      52.0  \n",
       "4         2      20   233     282   497  2.94e-06      48.1  "
      ]
     },
     "execution_count": 5,
     "metadata": {},
     "output_type": "execute_result"
    }
   ],
   "source": [
    "# Check pssm result\n",
    "pssm_result.head()"
   ]
  },
  {
   "cell_type": "code",
   "execution_count": 6,
   "metadata": {},
   "outputs": [
    {
     "name": "stdout",
     "output_type": "stream",
     "text": [
      "There are 45 positive  and 20322 negative proteins matched by PSSM\n"
     ]
    }
   ],
   "source": [
    "# Define set of positive protein accessions\n",
    "pred_positive = set(pssm_result.subject_acc_ver)\n",
    "pred_negative = set(ds_human['Entry']) - pred_positive\n",
    "\n",
    "print('There are {:d} positive  and {:d} negative proteins matched by PSSM'.format(\n",
    "    len(pred_positive), len(pred_negative)\n",
    "))"
   ]
  },
  {
   "cell_type": "code",
   "execution_count": 19,
   "metadata": {},
   "outputs": [
    {
     "name": "stdout",
     "output_type": "stream",
     "text": [
      "There are 38 positive and 20329 negative proteins in human proteome\n"
     ]
    }
   ],
   "source": [
    "# Define set of truly positive protein accessions\n",
    "positive = set(ds_human[ds_human['PF00397']]['Entry'])\n",
    "negative = set(ds_human['Entry']) - positive\n",
    "\n",
    "print('There are {:d} positive and {:d} negative proteins in human proteome'.format(\n",
    "    len(positive), len(negative)\n",
    "))"
   ]
  },
  {
   "cell_type": "code",
   "execution_count": 8,
   "metadata": {},
   "outputs": [
    {
     "name": "stdout",
     "output_type": "stream",
     "text": [
      "There are:\n",
      "33 true positive\n",
      "12 false positive\n",
      "20317 true negative\n",
      "5 false negative\n"
     ]
    }
   ],
   "source": [
    "# Define confusion matrix entries\n",
    "true_positive = positive & pred_positive\n",
    "false_positive = negative & pred_positive\n",
    "true_negative = negative & pred_negative\n",
    "false_negative = positive & pred_negative\n",
    "\n",
    "print('There are:')\n",
    "print('{:d} true positive'.format(len(true_positive)))\n",
    "print('{:d} false positive'.format(len(false_positive)))\n",
    "print('{:d} true negative'.format(len(true_negative)))\n",
    "print('{:d} false negative'.format(len(false_negative)))"
   ]
  },
  {
   "cell_type": "code",
   "execution_count": 9,
   "metadata": {},
   "outputs": [
    {
     "data": {
      "image/png": "[encoded data removed]",
      "text/plain": [
       "<Figure size 432x288 with 2 Axes>"
      ]
     },
     "metadata": {
      "needs_background": "light"
     },
     "output_type": "display_data"
    }
   ],
   "source": [
    "# Create confusion matrix\n",
    "conf_matrix = np.array([[len(false_positive), len(true_negative)],\n",
    "                       [len(true_positive), len(false_negative)]])\n",
    "\n",
    "# Plot confusion matrix\n",
    "fig, ax = plt.subplots()\n",
    "_ = sns.heatmap(np.log10(conf_matrix), ax=ax, annot=conf_matrix, annot_kws={\n",
    "    'size': 16, 'ha': 'center', 'va': 'center'\n",
    "})\n",
    "_ = ax.set_ylim(0, conf_matrix.shape[0])\n",
    "_ = plt.show()"
   ]
  },
  {
   "cell_type": "markdown",
   "metadata": {},
   "source": [
    "## HMM model"
   ]
  },
  {
   "cell_type": "code",
   "execution_count": 27,
   "metadata": {},
   "outputs": [],
   "source": [
    "# Execute HMM\n",
    "\n",
    "# Define e-value threshold\n",
    "e_value_threshold = 0.7\n",
    "\n",
    "# Run hmm\n",
    "try:\n",
    "    hmm_result = hmm.run(msa_path=MSA_FASTA_PATH,test_path=HUMAN_FASTA_PATH, model_path=HMM_MODEL_PATH,)\n",
    "    hmm_result = hmm.parse(hmm_result)\n",
    "    \n",
    "    # Make a threshold on evalue\n",
    "    e_value = hmm_result['dom_i_evalue'].astype(float)\n",
    "    hmm_result = hmm_result[e_value < e_value_threshold]\n",
    "        \n",
    "# Catch error\n",
    "except subprocess.CalledProcessError as e:\n",
    "    print(e)"
   ]
  },
  {
   "cell_type": "code",
   "execution_count": 28,
   "metadata": {},
   "outputs": [
    {
     "data": {
      "text/html": [
       "<div>\n",
       "<style scoped>\n",
       "    .dataframe tbody tr th:only-of-type {\n",
       "        vertical-align: middle;\n",
       "    }\n",
       "\n",
       "    .dataframe tbody tr th {\n",
       "        vertical-align: top;\n",
       "    }\n",
       "\n",
       "    .dataframe thead th {\n",
       "        text-align: right;\n",
       "    }\n",
       "</style>\n",
       "<table border=\"1\" class=\"dataframe\">\n",
       "  <thead>\n",
       "    <tr style=\"text-align: right;\">\n",
       "      <th></th>\n",
       "      <th>target_name</th>\n",
       "      <th>dom_i_evalue</th>\n",
       "      <th>dom_c_evalue</th>\n",
       "    </tr>\n",
       "  </thead>\n",
       "  <tbody>\n",
       "    <tr>\n",
       "      <th>0</th>\n",
       "      <td>O60861</td>\n",
       "      <td>5.6e-09</td>\n",
       "      <td>4.4e-12</td>\n",
       "    </tr>\n",
       "    <tr>\n",
       "      <th>1</th>\n",
       "      <td>Q13526</td>\n",
       "      <td>1.2e-07</td>\n",
       "      <td>9.5e-11</td>\n",
       "    </tr>\n",
       "    <tr>\n",
       "      <th>2</th>\n",
       "      <td>O15428</td>\n",
       "      <td>1.1e-05</td>\n",
       "      <td>9e-09</td>\n",
       "    </tr>\n",
       "    <tr>\n",
       "      <th>3</th>\n",
       "      <td>Q96J02</td>\n",
       "      <td>0.039</td>\n",
       "      <td>3.1e-05</td>\n",
       "    </tr>\n",
       "    <tr>\n",
       "      <th>5</th>\n",
       "      <td>Q96J02</td>\n",
       "      <td>0.0068</td>\n",
       "      <td>5.3e-06</td>\n",
       "    </tr>\n",
       "  </tbody>\n",
       "</table>\n",
       "</div>"
      ],
      "text/plain": [
       "  target_name dom_i_evalue dom_c_evalue\n",
       "0      O60861      5.6e-09      4.4e-12\n",
       "1      Q13526      1.2e-07      9.5e-11\n",
       "2      O15428      1.1e-05        9e-09\n",
       "3      Q96J02        0.039      3.1e-05\n",
       "5      Q96J02       0.0068      5.3e-06"
      ]
     },
     "execution_count": 28,
     "metadata": {},
     "output_type": "execute_result"
    }
   ],
   "source": [
    "# Check hmm result\n",
    "hmm_result[['target_name', 'dom_i_evalue', 'dom_c_evalue']].head()"
   ]
  },
  {
   "cell_type": "code",
   "execution_count": 29,
   "metadata": {},
   "outputs": [
    {
     "name": "stdout",
     "output_type": "stream",
     "text": [
      "There are 13 positive  and 20354 negative proteins matched by HMM\n"
     ]
    }
   ],
   "source": [
    "# Define set of positive protein accessions\n",
    "pred_positive = set(hmm_result.target_name)\n",
    "pred_negative = set(ds_human['Entry']) - pred_positive\n",
    "\n",
    "print('There are {:d} positive  and {:d} negative proteins matched by HMM'.format(\n",
    "    len(pred_positive), len(pred_negative)\n",
    "))"
   ]
  },
  {
   "cell_type": "code",
   "execution_count": 30,
   "metadata": {},
   "outputs": [
    {
     "name": "stdout",
     "output_type": "stream",
     "text": [
      "There are:\n",
      "10 true positive\n",
      "3 false positive\n",
      "20326 true negative\n",
      "28 false negative\n"
     ]
    }
   ],
   "source": [
    "# Define confusion matrix entries\n",
    "true_positive = positive & pred_positive\n",
    "false_positive = negative & pred_positive\n",
    "true_negative = negative & pred_negative\n",
    "false_negative = positive & pred_negative\n",
    "\n",
    "print('There are:')\n",
    "print('{:d} true positive'.format(len(true_positive)))\n",
    "print('{:d} false positive'.format(len(false_positive)))\n",
    "print('{:d} true negative'.format(len(true_negative)))\n",
    "print('{:d} false negative'.format(len(false_negative)))"
   ]
  },
  {
   "cell_type": "code",
   "execution_count": 31,
   "metadata": {},
   "outputs": [
    {
     "data": {
      "image/png": "[encoded data removed]",
      "text/plain": [
       "<Figure size 432x288 with 2 Axes>"
      ]
     },
     "metadata": {
      "needs_background": "light"
     },
     "output_type": "display_data"
    }
   ],
   "source": [
    "# Create confusion matrix\n",
    "conf_matrix = np.array([[len(false_positive), len(true_negative)],\n",
    "                       [len(true_positive), len(false_negative)]])\n",
    "\n",
    "# Plot confusion matrix\n",
    "fig, ax = plt.subplots()\n",
    "_ = sns.heatmap(np.log10(conf_matrix), ax=ax, annot=conf_matrix, annot_kws={\n",
    "    'size': 16, 'ha': 'center', 'va': 'center'\n",
    "})\n",
    "_ = ax.set_ylim(0, conf_matrix.shape[0])\n",
    "_ = plt.show()"
   ]
  },
  {
   "cell_type": "code",
   "execution_count": null,
   "metadata": {},
   "outputs": [],
   "source": []
  }
 ],
 "metadata": {
  "kernelspec": {
   "display_name": "Python 3",
   "language": "python",
   "name": "python3"
  },
  "language_info": {
   "codemirror_mode": {
    "name": "ipython",
    "version": 3
   },
   "file_extension": ".py",
   "mimetype": "text/x-python",
   "name": "python",
   "nbconvert_exporter": "python",
   "pygments_lexer": "ipython3",
   "version": "3.7.4"
  }
 },
 "nbformat": 4,
 "nbformat_minor": 2
}
