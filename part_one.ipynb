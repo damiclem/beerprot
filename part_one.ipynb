{
 "cells": [
  {
   "cell_type": "code",
   "execution_count": 1,
   "metadata": {
    "scrolled": true
   },
   "outputs": [],
   "source": [
    "# Dependencies\n",
    "import modules.blast as blast\n",
    "import modules.uniprot as uniprot\n",
    "import pandas as pd\n",
    "import time"
   ]
  },
  {
   "cell_type": "code",
   "execution_count": 2,
   "metadata": {},
   "outputs": [],
   "source": [
    "# Constants\n",
    "BLAST_MATCHES_PATH = 'data/uniref90_matches.csv'  # Blast matches dataset\n",
    "BLAST_FASTA_PATH = 'data/uniref90_blast.fasta'  # Blast matched proteins fasta file"
   ]
  },
  {
   "cell_type": "code",
   "execution_count": 3,
   "metadata": {},
   "outputs": [
    {
     "name": "stdout",
     "output_type": "stream",
     "text": [
      "['program', 'task', 'matrix', 'alignments', 'scores', 'exp', 'dropoff', 'match_scores', 'gapopen', 'gapext', 'filter', 'seqrange', 'gapalign', 'wordsize', 'taxids', 'compstats', 'align', 'transltable', 'stype', 'sequence', 'database']\n"
     ]
    }
   ],
   "source": [
    "# Check available parameters\n",
    "status, params, _ = blast.get_parameters()\n",
    "\n",
    "print(params)"
   ]
  },
  {
   "cell_type": "code",
   "execution_count": 4,
   "metadata": {},
   "outputs": [],
   "source": [
    "# # Start a BLAST job\n",
    "# status, job_id, _ = blast.run_job(email='damiano.clementel@studenti.unipd.it',\n",
    "#                               sequence='VPSGWKAVFDDEYQTWYYVDLSTNSSQWEPP',\n",
    "#                               params={'database': 'uniref90',\n",
    "#                                       'matrix': 'BLOSUM62',\n",
    "#                                       'alignments': 1000, \n",
    "#                                       'gapalign': True, \n",
    "#                                       'exp': '1e-3'})\n",
    "# \n",
    "# # Check output\n",
    "# print(status, job_id)"
   ]
  },
  {
   "cell_type": "code",
   "execution_count": 5,
   "metadata": {},
   "outputs": [
    {
     "name": "stdout",
     "output_type": "stream",
     "text": [
      "Job status: FINISHED\n",
      "Job exited with status: FINISHED\n"
     ]
    }
   ],
   "source": [
    "# Define results container\n",
    "job_result = None\n",
    "job_id = 'ncbiblast-R20200205-095307-0450-62657352-p1m'\n",
    "\n",
    "# Retruieve BLAST job results\n",
    "while True:\n",
    "    # Make request for job status\n",
    "    status, job_status, _ = blast.get_job_status(job_id)\n",
    "    print('Job status: {:s}'.format(job_status))  # LOG\n",
    "    # Check error\n",
    "    if not status: break\n",
    "    # Check if job has finished running\n",
    "    if job_status == 'FINISHED':\n",
    "        # Retrieve results\n",
    "        status, job_result, _ = blast.get_job_result(job_id)\n",
    "        print('Job exited with status: {:s}'.format(job_status))  # LOG\n",
    "        break  # Exit loop\n",
    "    # Wait 10 seconds befroe making another call\n",
    "    time.sleep(10)"
   ]
  },
  {
   "cell_type": "code",
   "execution_count": 6,
   "metadata": {
    "scrolled": false
   },
   "outputs": [
    {
     "data": {
      "text/html": [
       "<div>\n",
       "<style scoped>\n",
       "    .dataframe tbody tr th:only-of-type {\n",
       "        vertical-align: middle;\n",
       "    }\n",
       "\n",
       "    .dataframe tbody tr th {\n",
       "        vertical-align: top;\n",
       "    }\n",
       "\n",
       "    .dataframe thead th {\n",
       "        text-align: right;\n",
       "    }\n",
       "</style>\n",
       "<table border=\"1\" class=\"dataframe\">\n",
       "  <thead>\n",
       "    <tr style=\"text-align: right;\">\n",
       "      <th></th>\n",
       "      <th>score</th>\n",
       "      <th>bits</th>\n",
       "      <th>expectation</th>\n",
       "      <th>identity</th>\n",
       "      <th>positives</th>\n",
       "      <th>gaps</th>\n",
       "      <th>strand</th>\n",
       "      <th>pattern_seq</th>\n",
       "      <th>match_seq</th>\n",
       "      <th>match_start</th>\n",
       "      <th>match_end</th>\n",
       "      <th>database</th>\n",
       "      <th>id</th>\n",
       "      <th>ac</th>\n",
       "      <th>description</th>\n",
       "    </tr>\n",
       "  </thead>\n",
       "  <tbody>\n",
       "    <tr>\n",
       "      <th>0</th>\n",
       "      <td>182</td>\n",
       "      <td>74.7146</td>\n",
       "      <td>1.000000e-15</td>\n",
       "      <td>100.0</td>\n",
       "      <td>100.0</td>\n",
       "      <td>0</td>\n",
       "      <td>none/none</td>\n",
       "      <td>VPSGWKAVFDDEYQTWYYVDLSTNSSQWEPP</td>\n",
       "      <td>VPSGWKAVFDDEYQTWYYVDLSTNSSQWEPP</td>\n",
       "      <td>11</td>\n",
       "      <td>41</td>\n",
       "      <td>UR90</td>\n",
       "      <td>UniRef90_P43582</td>\n",
       "      <td>WW</td>\n",
       "      <td>WW domain-containing protein WWM1 n=9 Tax=Sacc...</td>\n",
       "    </tr>\n",
       "    <tr>\n",
       "      <th>1</th>\n",
       "      <td>175</td>\n",
       "      <td>72.0182</td>\n",
       "      <td>1.100000e-14</td>\n",
       "      <td>93.5</td>\n",
       "      <td>100.0</td>\n",
       "      <td>0</td>\n",
       "      <td>none/none</td>\n",
       "      <td>VPSGWKAVFDDEYQTW+YVDLSTN+SQWEPP</td>\n",
       "      <td>VPSGWKAVFDDEYQTWFYVDLSTNNSQWEPP</td>\n",
       "      <td>11</td>\n",
       "      <td>41</td>\n",
       "      <td>UR90</td>\n",
       "      <td>UniRef90_J8Q8J2</td>\n",
       "      <td>Wwm1p</td>\n",
       "      <td>Wwm1p n=1 Tax=Saccharomyces arboricola (strain...</td>\n",
       "    </tr>\n",
       "    <tr>\n",
       "      <th>2</th>\n",
       "      <td>173</td>\n",
       "      <td>71.2478</td>\n",
       "      <td>1.800000e-14</td>\n",
       "      <td>93.5</td>\n",
       "      <td>100.0</td>\n",
       "      <td>0</td>\n",
       "      <td>none/none</td>\n",
       "      <td>VPSGWKAVFDDEYQTW+YV+LSTNSSQWEPP</td>\n",
       "      <td>VPSGWKAVFDDEYQTWFYVNLSTNSSQWEPP</td>\n",
       "      <td>11</td>\n",
       "      <td>41</td>\n",
       "      <td>UR90</td>\n",
       "      <td>UniRef90_J5RH20</td>\n",
       "      <td>WWM1-like</td>\n",
       "      <td>WWM1-like protein n=2 Tax=Saccharomyces TaxID=...</td>\n",
       "    </tr>\n",
       "    <tr>\n",
       "      <th>3</th>\n",
       "      <td>170</td>\n",
       "      <td>70.0922</td>\n",
       "      <td>4.700000e-14</td>\n",
       "      <td>93.5</td>\n",
       "      <td>96.8</td>\n",
       "      <td>0</td>\n",
       "      <td>none/none</td>\n",
       "      <td>VPSGWKAVFDDEYQTW+YVDLSTNSSQWE P</td>\n",
       "      <td>VPSGWKAVFDDEYQTWFYVDLSTNSSQWEAP</td>\n",
       "      <td>11</td>\n",
       "      <td>41</td>\n",
       "      <td>UR90</td>\n",
       "      <td>UniRef90_A0A0L8RJY2</td>\n",
       "      <td>WWM1-like</td>\n",
       "      <td>WWM1-like protein n=1 Tax=Saccharomyces eubaya...</td>\n",
       "    </tr>\n",
       "    <tr>\n",
       "      <th>4</th>\n",
       "      <td>158</td>\n",
       "      <td>65.4698</td>\n",
       "      <td>2.800000e-12</td>\n",
       "      <td>80.6</td>\n",
       "      <td>93.5</td>\n",
       "      <td>0</td>\n",
       "      <td>none/none</td>\n",
       "      <td>VP GWKAVFDDEY+TW+YV+L+TN SQWEPP</td>\n",
       "      <td>VPKGWKAVFDDEYKTWFYVNLATNQSQWEPP</td>\n",
       "      <td>11</td>\n",
       "      <td>41</td>\n",
       "      <td>UR90</td>\n",
       "      <td>UniRef90_A0A212M9M4</td>\n",
       "      <td>WW</td>\n",
       "      <td>WW domain-containing protein n=4 Tax=Zygosacch...</td>\n",
       "    </tr>\n",
       "  </tbody>\n",
       "</table>\n",
       "</div>"
      ],
      "text/plain": [
       "   score     bits   expectation  identity  positives  gaps     strand  \\\n",
       "0    182  74.7146  1.000000e-15     100.0      100.0     0  none/none   \n",
       "1    175  72.0182  1.100000e-14      93.5      100.0     0  none/none   \n",
       "2    173  71.2478  1.800000e-14      93.5      100.0     0  none/none   \n",
       "3    170  70.0922  4.700000e-14      93.5       96.8     0  none/none   \n",
       "4    158  65.4698  2.800000e-12      80.6       93.5     0  none/none   \n",
       "\n",
       "                       pattern_seq                        match_seq  \\\n",
       "0  VPSGWKAVFDDEYQTWYYVDLSTNSSQWEPP  VPSGWKAVFDDEYQTWYYVDLSTNSSQWEPP   \n",
       "1  VPSGWKAVFDDEYQTW+YVDLSTN+SQWEPP  VPSGWKAVFDDEYQTWFYVDLSTNNSQWEPP   \n",
       "2  VPSGWKAVFDDEYQTW+YV+LSTNSSQWEPP  VPSGWKAVFDDEYQTWFYVNLSTNSSQWEPP   \n",
       "3  VPSGWKAVFDDEYQTW+YVDLSTNSSQWE P  VPSGWKAVFDDEYQTWFYVDLSTNSSQWEAP   \n",
       "4  VP GWKAVFDDEY+TW+YV+L+TN SQWEPP  VPKGWKAVFDDEYKTWFYVNLATNQSQWEPP   \n",
       "\n",
       "   match_start  match_end database                   id         ac  \\\n",
       "0           11         41     UR90      UniRef90_P43582         WW   \n",
       "1           11         41     UR90      UniRef90_J8Q8J2      Wwm1p   \n",
       "2           11         41     UR90      UniRef90_J5RH20  WWM1-like   \n",
       "3           11         41     UR90  UniRef90_A0A0L8RJY2  WWM1-like   \n",
       "4           11         41     UR90  UniRef90_A0A212M9M4         WW   \n",
       "\n",
       "                                         description  \n",
       "0  WW domain-containing protein WWM1 n=9 Tax=Sacc...  \n",
       "1  Wwm1p n=1 Tax=Saccharomyces arboricola (strain...  \n",
       "2  WWM1-like protein n=2 Tax=Saccharomyces TaxID=...  \n",
       "3  WWM1-like protein n=1 Tax=Saccharomyces eubaya...  \n",
       "4  WW domain-containing protein n=4 Tax=Zygosacch...  "
      ]
     },
     "execution_count": 6,
     "metadata": {},
     "output_type": "execute_result"
    }
   ],
   "source": [
    "# Turn job result into pandas DataFrame object\n",
    "matches = pd.DataFrame(job_result)\n",
    "# Retrieve full sequence\n",
    "# matches['full_seq'] = matches['id'].apply(lambda x: uniprot.get_protein(x)[1])\n",
    "# Save dataframe to file\n",
    "matches.to_csv(BLAST_MATCHES_PATH, index=False)\n",
    "# Show dataframe\n",
    "matches.head()"
   ]
  },
  {
   "cell_type": "code",
   "execution_count": 11,
   "metadata": {},
   "outputs": [],
   "source": [
    "# Save full fasta file\n",
    "with open(BLAST_FASTA_PATH, 'w') as out_file:\n",
    "    # Get fasta file\n",
    "    status, out, res = uniprot.get_proteins(matches.id.tolist(), batch_size=100)\n",
    "    # Write fasta file to disk\n",
    "    out_file.write(out)"
   ]
  },
  {
   "cell_type": "code",
   "execution_count": null,
   "metadata": {},
   "outputs": [],
   "source": [
    "# Check number of retrieved fasta files\n",
    "fasta_len = sum([1 for c in out if c == '>'])  # Number of rows in fasta file\n",
    "matches_len = matches.shape[0]  # Number of rows in dataframe\n",
    "\n",
    "assert  fasta_len == matches_len, 'Fasta file and dataset lengths do not coincide'"
   ]
  }
 ],
 "metadata": {
  "kernelspec": {
   "display_name": "Python 3",
   "language": "python",
   "name": "python3"
  },
  "language_info": {
   "codemirror_mode": {
    "name": "ipython",
    "version": 3
   },
   "file_extension": ".py",
   "mimetype": "text/x-python",
   "name": "python",
   "nbconvert_exporter": "python",
   "pygments_lexer": "ipython3",
   "version": "3.7.4"
  }
 },
 "nbformat": 4,
 "nbformat_minor": 2
}
